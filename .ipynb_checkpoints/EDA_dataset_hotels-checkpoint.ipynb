{
 "cells": [
  {
   "cell_type": "markdown",
   "id": "34cbcce0",
   "metadata": {},
   "source": [
    "# Описание датасета\n",
    "\n",
    "##### Название датасета: Hotels Dataset (Датасет отелей)\n",
    "##### Ссылка: https://www.kaggle.com/datasets/raj713335/tbo-hotels-dataset/data\n",
    "\n",
    "## О датасетах:\n",
    "\n",
    "Этот датасет содержит информацию о 1 000 000+ отелях из различных стран и регионов, таких как их тарифы, отзывы, удобства, местоположение и звездный рейтинг. Данные были собраны из различных источников, таких как веб-сайты отелей, онлайн-агентства по бронированию и платформы отзывов. Датасет может использоваться для различных целей, таких как:\n",
    "\n",
    "- **Исследовательский анализ данных** для понимания характеристик и распределения отелей по разным рынкам и сегментам.\n",
    "- **Анализ настроений** для извлечения идей из отзывов и рейтингов гостей отеля и выявления ключевых факторов, влияющих на удовлетворенность и лояльность клиентов.\n",
    "- **Системы рекомендаций** для предоставления персонализированных предложений по бронированию отелей на основе предпочтений и поведения пользователя.\n",
    "- **Прогнозирование цен** для оценки оптимальных тарифов для отелей на основе спроса, сезонности и конкуренции.\n",
    "- **Классификация** для определения типа и категории отелей на основе их характеристик и атрибутов.\n",
    "\n",
    "\n",
    "## Структура данных\n",
    "\n",
    "Датасет состоит из 16 столбцов и `1 000 000+` строк, где каждая строка представляет собой отель. Столбцы включают в себя:\n",
    "\n",
    "1. `countyCode`: Код страны, к которой принадлежит отель.\n",
    "2. `countyName`: Название страны, к которой принадлежит отель.\n",
    "3. `cityCode`: Код города, где расположен отель.\n",
    "4. `cityName`: Город, где расположен отель.\n",
    "5. `HotelCode`: Уникальный идентификатор каждого отеля.\n",
    "6. `hotel_name`: Название отеля.\n",
    "7. `HotelRating`: Звездный рейтинг отеля от 1 до 5.\n",
    "8. `Address`: Адрес отеля.\n",
    "9. `Attractions`: Достопримечательности рядом с отелем.\n",
    "10. `Description`: Подробное описание отеля.\n",
    "11. `FaxNumber`: Номер факса отеля.\n",
    "12. `HotelFacilities`: Доступные в отеле удобства.\n",
    "13. `Map`: Местоположение отеля в формате GPS (широта и долгота).\n",
    "14. `PhoneNumber`: Телефонный номер отеля.\n",
    "15. `PinCode`: Почтовый индекс адреса отеля.\n",
    "16. `HotelWebsiteUrl`: Веб-ссылка для бронирования отеля."
   ]
  },
  {
   "cell_type": "markdown",
   "id": "d1e6883f",
   "metadata": {},
   "source": [
    "## Подключение библиотеки"
   ]
  },
  {
   "cell_type": "code",
   "execution_count": 1,
   "id": "9ba49799",
   "metadata": {},
   "outputs": [],
   "source": [
    "# Подключаем все необходимые библиотеки\n",
    "import pandas as pd\n",
    "import matplotlib.pyplot as plt\n",
    "import numpy as np\n",
    "import seaborn as sb\n",
    "from scipy.stats import (\n",
    "    # Критерий Стьюдента\n",
    "    ttest_ind, \n",
    "    f_oneway,\n",
    "    # Тест Манна-Уитни, для гипотез H0 и H1\n",
    "    mannwhitneyu,\n",
    "    f_oneway,\n",
    "    pearsonr\n",
    ")\n",
    "from sklearn.preprocessing import LabelEncoder"
   ]
  },
  {
   "cell_type": "code",
   "execution_count": 2,
   "id": "3e0b91bd",
   "metadata": {},
   "outputs": [],
   "source": [
    "# Получаем датасет с локального файла\n",
    "try:\n",
    "    df = pd.read_csv('hotels.csv')\n",
    "except:\n",
    "    print('Отсутствует датасет. Проверьте путь файла')"
   ]
  },
  {
   "cell_type": "markdown",
   "id": "0e4e9269",
   "metadata": {},
   "source": [
    "## Изучение данных"
   ]
  },
  {
   "cell_type": "code",
   "execution_count": 3,
   "id": "30dd6261",
   "metadata": {},
   "outputs": [
    {
     "name": "stdout",
     "output_type": "stream",
     "text": [
      "<class 'pandas.core.frame.DataFrame'>\n",
      "RangeIndex: 1010033 entries, 0 to 1010032\n",
      "Data columns (total 16 columns):\n",
      " #   Column            Non-Null Count    Dtype \n",
      "---  ------            --------------    ----- \n",
      " 0   countyCode        1009121 non-null  object\n",
      " 1    countyName       1010033 non-null  object\n",
      " 2    cityCode         1010033 non-null  int64 \n",
      " 3    cityName         1010033 non-null  object\n",
      " 4    HotelCode        1010033 non-null  int64 \n",
      " 5    HotelName        1010033 non-null  object\n",
      " 6    HotelRating      1010033 non-null  object\n",
      " 7    Address          1009931 non-null  object\n",
      " 8    Attractions      484941 non-null   object\n",
      " 9    Description      963028 non-null   object\n",
      " 10   FaxNumber        449686 non-null   object\n",
      " 11   HotelFacilities  959655 non-null   object\n",
      " 12   Map              1009103 non-null  object\n",
      " 13   PhoneNumber      682896 non-null   object\n",
      " 14   PinCode          979062 non-null   object\n",
      " 15   HotelWebsiteUrl  759915 non-null   object\n",
      "dtypes: int64(2), object(14)\n",
      "memory usage: 123.3+ MB\n"
     ]
    }
   ],
   "source": [
    "df.info()"
   ]
  },
  {
   "cell_type": "code",
   "execution_count": 4,
   "id": "397258f2",
   "metadata": {},
   "outputs": [
    {
     "data": {
      "text/html": [
       "<div>\n",
       "<style scoped>\n",
       "    .dataframe tbody tr th:only-of-type {\n",
       "        vertical-align: middle;\n",
       "    }\n",
       "\n",
       "    .dataframe tbody tr th {\n",
       "        vertical-align: top;\n",
       "    }\n",
       "\n",
       "    .dataframe thead th {\n",
       "        text-align: right;\n",
       "    }\n",
       "</style>\n",
       "<table border=\"1\" class=\"dataframe\">\n",
       "  <thead>\n",
       "    <tr style=\"text-align: right;\">\n",
       "      <th></th>\n",
       "      <th>countyCode</th>\n",
       "      <th>countyName</th>\n",
       "      <th>cityCode</th>\n",
       "      <th>cityName</th>\n",
       "      <th>HotelCode</th>\n",
       "      <th>HotelName</th>\n",
       "      <th>HotelRating</th>\n",
       "      <th>Address</th>\n",
       "      <th>Attractions</th>\n",
       "      <th>Description</th>\n",
       "      <th>FaxNumber</th>\n",
       "      <th>HotelFacilities</th>\n",
       "      <th>Map</th>\n",
       "      <th>PhoneNumber</th>\n",
       "      <th>PinCode</th>\n",
       "      <th>HotelWebsiteUrl</th>\n",
       "    </tr>\n",
       "  </thead>\n",
       "  <tbody>\n",
       "    <tr>\n",
       "      <th>0</th>\n",
       "      <td>AL</td>\n",
       "      <td>Albania</td>\n",
       "      <td>106078</td>\n",
       "      <td>Albanien</td>\n",
       "      <td>1003300</td>\n",
       "      <td>De Paris Hotel</td>\n",
       "      <td>FourStar</td>\n",
       "      <td>Nr. 7 Brigada Viii Street Tirane</td>\n",
       "      <td>NaN</td>\n",
       "      <td>Hotel de Paris is a charming boutique hotel th...</td>\n",
       "      <td>42268822</td>\n",
       "      <td>Private parking Parking onsite Television in c...</td>\n",
       "      <td>41.32213|19.81665</td>\n",
       "      <td>00355 4226 5009</td>\n",
       "      <td>1000</td>\n",
       "      <td>https://www.booking.com/hotel/al/de-paris.html</td>\n",
       "    </tr>\n",
       "    <tr>\n",
       "      <th>1</th>\n",
       "      <td>AL</td>\n",
       "      <td>Albania</td>\n",
       "      <td>106078</td>\n",
       "      <td>Albanien</td>\n",
       "      <td>1003301</td>\n",
       "      <td>Hotel Green</td>\n",
       "      <td>FourStar</td>\n",
       "      <td>Rruga Kavajes. Kombinat Km 2. Vaqarr VaqarrTir...</td>\n",
       "      <td>NaN</td>\n",
       "      <td>Located in a suburb of Tirana, Hotel Green is ...</td>\n",
       "      <td>35548520058</td>\n",
       "      <td>airport pick up wifi available in all areas Ai...</td>\n",
       "      <td>41.30413|19.74703</td>\n",
       "      <td>+35548520057</td>\n",
       "      <td>1041</td>\n",
       "      <td>https://www.booking.com/hotel/al/hotel-green.html</td>\n",
       "    </tr>\n",
       "    <tr>\n",
       "      <th>2</th>\n",
       "      <td>AL</td>\n",
       "      <td>Albania</td>\n",
       "      <td>106078</td>\n",
       "      <td>Albanien</td>\n",
       "      <td>1003302</td>\n",
       "      <td>Theranda Hotel</td>\n",
       "      <td>ThreeStar</td>\n",
       "      <td>Rr. Andon Zako Cajupi Villa 6 &amp; 7 Villa 6 &amp; 7T...</td>\n",
       "      <td>NaN</td>\n",
       "      <td>Set in Tirana, 1.2 km from Skanderbeg Square, ...</td>\n",
       "      <td>00355 (0)42273689</td>\n",
       "      <td>face masks for guests available all plates  cu...</td>\n",
       "      <td>41.3216|19.81199</td>\n",
       "      <td>00355 (0)42273766</td>\n",
       "      <td>1019</td>\n",
       "      <td>https://www.booking.com/hotel/al/theranda.html</td>\n",
       "    </tr>\n",
       "    <tr>\n",
       "      <th>3</th>\n",
       "      <td>AL</td>\n",
       "      <td>Albania</td>\n",
       "      <td>106078</td>\n",
       "      <td>Albanien</td>\n",
       "      <td>1003303</td>\n",
       "      <td>Seven Hotel</td>\n",
       "      <td>ThreeStar</td>\n",
       "      <td>KAVAJA STREET, CLOSE TURKISH AMBASSY TIRANA</td>\n",
       "      <td>Skanderbeg Square: within 500 metre</td>\n",
       "      <td>This hotel enjoys an enviable setting in Tiran...</td>\n",
       "      <td>NaN</td>\n",
       "      <td>� la carte dinner Breakfast buffet Breakfast C...</td>\n",
       "      <td>41.328027|19.815052</td>\n",
       "      <td>NaN</td>\n",
       "      <td>1001</td>\n",
       "      <td>http://www.hotelseven-tirana.com/</td>\n",
       "    </tr>\n",
       "    <tr>\n",
       "      <th>4</th>\n",
       "      <td>AL</td>\n",
       "      <td>Albania</td>\n",
       "      <td>106078</td>\n",
       "      <td>Albanien</td>\n",
       "      <td>1003325</td>\n",
       "      <td>Viktoria</td>\n",
       "      <td>ThreeStar</td>\n",
       "      <td>Rruga E Elbasanit Km 4 Sauk SaukTirana</td>\n",
       "      <td>NaN</td>\n",
       "      <td>Located in a new residential area at the edge ...</td>\n",
       "      <td>+355695406986</td>\n",
       "      <td>internet services Ironing service Family rooms...</td>\n",
       "      <td>41.29125|19.85349</td>\n",
       "      <td>355 69 5406986</td>\n",
       "      <td>1000</td>\n",
       "      <td>https://www.booking.com/hotel/al/viktoria-sauk...</td>\n",
       "    </tr>\n",
       "  </tbody>\n",
       "</table>\n",
       "</div>"
      ],
      "text/plain": [
       "  countyCode  countyName   cityCode  cityName   HotelCode       HotelName  \\\n",
       "0         AL     Albania     106078  Albanien     1003300  De Paris Hotel   \n",
       "1         AL     Albania     106078  Albanien     1003301     Hotel Green   \n",
       "2         AL     Albania     106078  Albanien     1003302  Theranda Hotel   \n",
       "3         AL     Albania     106078  Albanien     1003303     Seven Hotel   \n",
       "4         AL     Albania     106078  Albanien     1003325        Viktoria   \n",
       "\n",
       "   HotelRating                                            Address  \\\n",
       "0     FourStar                  Nr. 7 Brigada Viii Street Tirane    \n",
       "1     FourStar  Rruga Kavajes. Kombinat Km 2. Vaqarr VaqarrTir...   \n",
       "2    ThreeStar  Rr. Andon Zako Cajupi Villa 6 & 7 Villa 6 & 7T...   \n",
       "3    ThreeStar       KAVAJA STREET, CLOSE TURKISH AMBASSY TIRANA    \n",
       "4    ThreeStar            Rruga E Elbasanit Km 4 Sauk SaukTirana    \n",
       "\n",
       "                            Attractions  \\\n",
       "0                                   NaN   \n",
       "1                                   NaN   \n",
       "2                                   NaN   \n",
       "3  Skanderbeg Square: within 500 metre    \n",
       "4                                   NaN   \n",
       "\n",
       "                                         Description          FaxNumber  \\\n",
       "0  Hotel de Paris is a charming boutique hotel th...           42268822   \n",
       "1  Located in a suburb of Tirana, Hotel Green is ...        35548520058   \n",
       "2  Set in Tirana, 1.2 km from Skanderbeg Square, ...  00355 (0)42273689   \n",
       "3  This hotel enjoys an enviable setting in Tiran...                NaN   \n",
       "4  Located in a new residential area at the edge ...      +355695406986   \n",
       "\n",
       "                                     HotelFacilities                  Map  \\\n",
       "0  Private parking Parking onsite Television in c...    41.32213|19.81665   \n",
       "1  airport pick up wifi available in all areas Ai...    41.30413|19.74703   \n",
       "2  face masks for guests available all plates  cu...     41.3216|19.81199   \n",
       "3  � la carte dinner Breakfast buffet Breakfast C...  41.328027|19.815052   \n",
       "4  internet services Ironing service Family rooms...    41.29125|19.85349   \n",
       "\n",
       "         PhoneNumber  PinCode  \\\n",
       "0    00355 4226 5009     1000   \n",
       "1       +35548520057     1041   \n",
       "2  00355 (0)42273766     1019   \n",
       "3                NaN     1001   \n",
       "4     355 69 5406986     1000   \n",
       "\n",
       "                                     HotelWebsiteUrl  \n",
       "0     https://www.booking.com/hotel/al/de-paris.html  \n",
       "1  https://www.booking.com/hotel/al/hotel-green.html  \n",
       "2     https://www.booking.com/hotel/al/theranda.html  \n",
       "3                  http://www.hotelseven-tirana.com/  \n",
       "4  https://www.booking.com/hotel/al/viktoria-sauk...  "
      ]
     },
     "metadata": {},
     "output_type": "display_data"
    },
    {
     "data": {
      "text/html": [
       "<div>\n",
       "<style scoped>\n",
       "    .dataframe tbody tr th:only-of-type {\n",
       "        vertical-align: middle;\n",
       "    }\n",
       "\n",
       "    .dataframe tbody tr th {\n",
       "        vertical-align: top;\n",
       "    }\n",
       "\n",
       "    .dataframe thead th {\n",
       "        text-align: right;\n",
       "    }\n",
       "</style>\n",
       "<table border=\"1\" class=\"dataframe\">\n",
       "  <thead>\n",
       "    <tr style=\"text-align: right;\">\n",
       "      <th></th>\n",
       "      <th>countyCode</th>\n",
       "      <th>countyName</th>\n",
       "      <th>cityCode</th>\n",
       "      <th>cityName</th>\n",
       "      <th>HotelCode</th>\n",
       "      <th>HotelName</th>\n",
       "      <th>HotelRating</th>\n",
       "      <th>Address</th>\n",
       "      <th>Attractions</th>\n",
       "      <th>Description</th>\n",
       "      <th>FaxNumber</th>\n",
       "      <th>HotelFacilities</th>\n",
       "      <th>Map</th>\n",
       "      <th>PhoneNumber</th>\n",
       "      <th>PinCode</th>\n",
       "      <th>HotelWebsiteUrl</th>\n",
       "    </tr>\n",
       "  </thead>\n",
       "  <tbody>\n",
       "    <tr>\n",
       "      <th>1010028</th>\n",
       "      <td>ZW</td>\n",
       "      <td>Zimbabwe</td>\n",
       "      <td>141497</td>\n",
       "      <td>Victoria Falls</td>\n",
       "      <td>5909458</td>\n",
       "      <td>Eagles House</td>\n",
       "      <td>All</td>\n",
       "      <td>Aerodrome Suburbs</td>\n",
       "      <td>NaN</td>\n",
       "      <td>NaN</td>\n",
       "      <td>NaN</td>\n",
       "      <td>NaN</td>\n",
       "      <td>-17.931957|25.81875</td>\n",
       "      <td>NaN</td>\n",
       "      <td>NaN</td>\n",
       "      <td>NaN</td>\n",
       "    </tr>\n",
       "    <tr>\n",
       "      <th>1010029</th>\n",
       "      <td>ZW</td>\n",
       "      <td>Zimbabwe</td>\n",
       "      <td>141497</td>\n",
       "      <td>Victoria Falls</td>\n",
       "      <td>6008100</td>\n",
       "      <td>Losin Guest House</td>\n",
       "      <td>TwoStar</td>\n",
       "      <td>1271 Aerodrome Victoria Falls Town</td>\n",
       "      <td>Distances are displayed to the nearest 0.1 mil...</td>\n",
       "      <td>&lt;p&gt;HeadLine : In a national park&lt;/p&gt;&lt;p&gt;Locatio...</td>\n",
       "      <td>NaN</td>\n",
       "      <td>Barbecue grill(s) Water dispenser Breakfast av...</td>\n",
       "      <td>-18.092278|25.843654</td>\n",
       "      <td>263-783130516</td>\n",
       "      <td>00263</td>\n",
       "      <td>NaN</td>\n",
       "    </tr>\n",
       "    <tr>\n",
       "      <th>1010030</th>\n",
       "      <td>ZW</td>\n",
       "      <td>Zimbabwe</td>\n",
       "      <td>141497</td>\n",
       "      <td>Victoria Falls</td>\n",
       "      <td>6053177</td>\n",
       "      <td>Victoria Falls Spacious Cottage</td>\n",
       "      <td>All</td>\n",
       "      <td>Syringa Road</td>\n",
       "      <td>NaN</td>\n",
       "      <td>Featuring garden views, Victoria Falls Holiday...</td>\n",
       "      <td>NaN</td>\n",
       "      <td>Parking Private check-in/check-out Pets allowe...</td>\n",
       "      <td>-17.92898|25.82036</td>\n",
       "      <td>NaN</td>\n",
       "      <td>NaN</td>\n",
       "      <td>https://www.booking.com/hotel/zw/victoria-fall...</td>\n",
       "    </tr>\n",
       "    <tr>\n",
       "      <th>1010031</th>\n",
       "      <td>ZW</td>\n",
       "      <td>Zimbabwe</td>\n",
       "      <td>141497</td>\n",
       "      <td>Victoria Falls</td>\n",
       "      <td>6092731</td>\n",
       "      <td>848 Guest House</td>\n",
       "      <td>ThreeStar</td>\n",
       "      <td>848 Aerodrome</td>\n",
       "      <td>Distances are displayed to the nearest 0.1 mil...</td>\n",
       "      <td>&lt;p&gt;HeadLine : In Victoria Falls&lt;/p&gt;&lt;p&gt;Location...</td>\n",
       "      <td>NaN</td>\n",
       "      <td>Dry cleaning/laundry service Designated smokin...</td>\n",
       "      <td>-17.929912|25.821958</td>\n",
       "      <td>263-772855945</td>\n",
       "      <td>263</td>\n",
       "      <td>NaN</td>\n",
       "    </tr>\n",
       "    <tr>\n",
       "      <th>1010032</th>\n",
       "      <td>ZW</td>\n",
       "      <td>Zimbabwe</td>\n",
       "      <td>141497</td>\n",
       "      <td>Victoria Falls</td>\n",
       "      <td>6105635</td>\n",
       "      <td>Mbano Manor Hotel - All Inclusive</td>\n",
       "      <td>ThreeStar</td>\n",
       "      <td>Old Kazungula Road</td>\n",
       "      <td>Distances are displayed to the nearest 0.1 mil...</td>\n",
       "      <td>&lt;p&gt;HeadLine : In a national park&lt;/p&gt;&lt;p&gt;Locatio...</td>\n",
       "      <td>NaN</td>\n",
       "      <td>Locally-owned &amp; organized tours &amp; activities F...</td>\n",
       "      <td>-17.92706|25.809958</td>\n",
       "      <td>27-719012911</td>\n",
       "      <td>NaN</td>\n",
       "      <td>NaN</td>\n",
       "    </tr>\n",
       "  </tbody>\n",
       "</table>\n",
       "</div>"
      ],
      "text/plain": [
       "        countyCode  countyName   cityCode        cityName   HotelCode  \\\n",
       "1010028         ZW    Zimbabwe     141497  Victoria Falls     5909458   \n",
       "1010029         ZW    Zimbabwe     141497  Victoria Falls     6008100   \n",
       "1010030         ZW    Zimbabwe     141497  Victoria Falls     6053177   \n",
       "1010031         ZW    Zimbabwe     141497  Victoria Falls     6092731   \n",
       "1010032         ZW    Zimbabwe     141497  Victoria Falls     6105635   \n",
       "\n",
       "                                 HotelName  HotelRating  \\\n",
       "1010028                       Eagles House          All   \n",
       "1010029                  Losin Guest House      TwoStar   \n",
       "1010030    Victoria Falls Spacious Cottage          All   \n",
       "1010031                    848 Guest House    ThreeStar   \n",
       "1010032  Mbano Manor Hotel - All Inclusive    ThreeStar   \n",
       "\n",
       "                                      Address  \\\n",
       "1010028                   Aerodrome Suburbs     \n",
       "1010029  1271 Aerodrome Victoria Falls Town     \n",
       "1010030                        Syringa Road     \n",
       "1010031                       848 Aerodrome     \n",
       "1010032                  Old Kazungula Road     \n",
       "\n",
       "                                               Attractions  \\\n",
       "1010028                                                NaN   \n",
       "1010029  Distances are displayed to the nearest 0.1 mil...   \n",
       "1010030                                                NaN   \n",
       "1010031  Distances are displayed to the nearest 0.1 mil...   \n",
       "1010032  Distances are displayed to the nearest 0.1 mil...   \n",
       "\n",
       "                                               Description  FaxNumber  \\\n",
       "1010028                                                NaN        NaN   \n",
       "1010029  <p>HeadLine : In a national park</p><p>Locatio...        NaN   \n",
       "1010030  Featuring garden views, Victoria Falls Holiday...        NaN   \n",
       "1010031  <p>HeadLine : In Victoria Falls</p><p>Location...        NaN   \n",
       "1010032  <p>HeadLine : In a national park</p><p>Locatio...        NaN   \n",
       "\n",
       "                                           HotelFacilities  \\\n",
       "1010028                                                NaN   \n",
       "1010029  Barbecue grill(s) Water dispenser Breakfast av...   \n",
       "1010030  Parking Private check-in/check-out Pets allowe...   \n",
       "1010031  Dry cleaning/laundry service Designated smokin...   \n",
       "1010032  Locally-owned & organized tours & activities F...   \n",
       "\n",
       "                          Map    PhoneNumber  PinCode  \\\n",
       "1010028   -17.931957|25.81875            NaN      NaN   \n",
       "1010029  -18.092278|25.843654  263-783130516    00263   \n",
       "1010030    -17.92898|25.82036            NaN      NaN   \n",
       "1010031  -17.929912|25.821958  263-772855945      263   \n",
       "1010032   -17.92706|25.809958   27-719012911      NaN   \n",
       "\n",
       "                                           HotelWebsiteUrl  \n",
       "1010028                                                NaN  \n",
       "1010029                                                NaN  \n",
       "1010030  https://www.booking.com/hotel/zw/victoria-fall...  \n",
       "1010031                                                NaN  \n",
       "1010032                                                NaN  "
      ]
     },
     "metadata": {},
     "output_type": "display_data"
    }
   ],
   "source": [
    "display(df.head())\n",
    "\n",
    "display(df.tail())"
   ]
  },
  {
   "cell_type": "markdown",
   "id": "dca8758c",
   "metadata": {},
   "source": [
    "Здесь ничего особенного нет, пока не рассмотрим следующие этапы"
   ]
  },
  {
   "cell_type": "markdown",
   "id": "4b9cc394",
   "metadata": {},
   "source": [
    "## Описательная статистика"
   ]
  },
  {
   "cell_type": "code",
   "execution_count": 5,
   "id": "5b31aa32",
   "metadata": {},
   "outputs": [
    {
     "data": {
      "text/html": [
       "<div>\n",
       "<style scoped>\n",
       "    .dataframe tbody tr th:only-of-type {\n",
       "        vertical-align: middle;\n",
       "    }\n",
       "\n",
       "    .dataframe tbody tr th {\n",
       "        vertical-align: top;\n",
       "    }\n",
       "\n",
       "    .dataframe thead th {\n",
       "        text-align: right;\n",
       "    }\n",
       "</style>\n",
       "<table border=\"1\" class=\"dataframe\">\n",
       "  <thead>\n",
       "    <tr style=\"text-align: right;\">\n",
       "      <th></th>\n",
       "      <th>cityCode</th>\n",
       "      <th>HotelCode</th>\n",
       "    </tr>\n",
       "  </thead>\n",
       "  <tbody>\n",
       "    <tr>\n",
       "      <th>count</th>\n",
       "      <td>1.010033e+06</td>\n",
       "      <td>1.010033e+06</td>\n",
       "    </tr>\n",
       "    <tr>\n",
       "      <th>mean</th>\n",
       "      <td>1.274184e+05</td>\n",
       "      <td>2.850143e+06</td>\n",
       "    </tr>\n",
       "    <tr>\n",
       "      <th>std</th>\n",
       "      <td>1.353500e+04</td>\n",
       "      <td>1.991153e+06</td>\n",
       "    </tr>\n",
       "    <tr>\n",
       "      <th>min</th>\n",
       "      <td>1.000010e+05</td>\n",
       "      <td>1.000000e+06</td>\n",
       "    </tr>\n",
       "    <tr>\n",
       "      <th>25%</th>\n",
       "      <td>1.159360e+05</td>\n",
       "      <td>1.310642e+06</td>\n",
       "    </tr>\n",
       "    <tr>\n",
       "      <th>50%</th>\n",
       "      <td>1.274950e+05</td>\n",
       "      <td>1.641121e+06</td>\n",
       "    </tr>\n",
       "    <tr>\n",
       "      <th>75%</th>\n",
       "      <td>1.388070e+05</td>\n",
       "      <td>5.337335e+06</td>\n",
       "    </tr>\n",
       "    <tr>\n",
       "      <th>max</th>\n",
       "      <td>1.518080e+05</td>\n",
       "      <td>6.194373e+06</td>\n",
       "    </tr>\n",
       "  </tbody>\n",
       "</table>\n",
       "</div>"
      ],
      "text/plain": [
       "           cityCode     HotelCode\n",
       "count  1.010033e+06  1.010033e+06\n",
       "mean   1.274184e+05  2.850143e+06\n",
       "std    1.353500e+04  1.991153e+06\n",
       "min    1.000010e+05  1.000000e+06\n",
       "25%    1.159360e+05  1.310642e+06\n",
       "50%    1.274950e+05  1.641121e+06\n",
       "75%    1.388070e+05  5.337335e+06\n",
       "max    1.518080e+05  6.194373e+06"
      ]
     },
     "execution_count": 5,
     "metadata": {},
     "output_type": "execute_result"
    }
   ],
   "source": [
    "df.describe()"
   ]
  },
  {
   "cell_type": "markdown",
   "id": "19d6e158",
   "metadata": {},
   "source": [
    "# Предобработка данных"
   ]
  },
  {
   "cell_type": "markdown",
   "id": "18dfea17",
   "metadata": {},
   "source": [
    "## Пропущенные значения"
   ]
  },
  {
   "cell_type": "code",
   "execution_count": 6,
   "id": "388a2414",
   "metadata": {},
   "outputs": [
    {
     "data": {
      "image/png": "[encoded data removed]",
      "text/plain": [
       "<Figure size 1000x600 with 1 Axes>"
      ]
     },
     "metadata": {},
     "output_type": "display_data"
    }
   ],
   "source": [
    "# Создаем список с именами столбцов и количеством пропущенных значений\n",
    "columns = df.columns\n",
    "missing_counts = [df[column].isnull().sum() for column in columns]\n",
    "\n",
    "# Сортируем столбцы в порядке убывания количества пропущенных значений\n",
    "sorted_columns, sorted_missing_counts = zip(*sorted(zip(columns, missing_counts), key=lambda x: x[1], reverse=False))\n",
    "\n",
    "# Создаем горизонтальную столбчатую диаграмму\n",
    "plt.figure(figsize=(10, 6))\n",
    "# Используем barh для горизонтальных столбцов\n",
    "plt.barh(sorted_columns, sorted_missing_counts)  \n",
    "plt.xlabel('Количество пропущенных значений')\n",
    "plt.ylabel('Имя столбца')\n",
    "plt.title('Количество пропущенных значений в каждом столбце')\n",
    "plt.tight_layout()\n",
    "\n",
    "# Отображаем график\n",
    "plt.show()"
   ]
  },
  {
   "cell_type": "code",
   "execution_count": 11,
   "id": "fb1fc915",
   "metadata": {},
   "outputs": [
    {
     "name": "stdout",
     "output_type": "stream",
     "text": [
      "Названий столбцов, у которых пропуски:\n",
      "\t Address\n",
      "\tcountyCode\n",
      "\t Map\n",
      "\t PinCode\n",
      "\t Description\n",
      "\t HotelFacilities\n",
      "\t HotelWebsiteUrl\n",
      "\t PhoneNumber\n",
      "\t Attractions\n",
      "\t FaxNumber\n"
     ]
    }
   ],
   "source": [
    "columns_isnull = [col for col, count in zip(sorted_columns, sorted_missing_counts) if count > 0]\n",
    "print(f'Названий столбцов, у которых пропуски:')\n",
    "for col in columns_isnull:\n",
    "    print('\\t' + col)"
   ]
  },
  {
   "cell_type": "markdown",
   "id": "9d3d58cf",
   "metadata": {},
   "source": [
    "## Дубликаты"
   ]
  },
  {
   "cell_type": "code",
   "execution_count": 12,
   "id": "e23ea2bf",
   "metadata": {
    "scrolled": true
   },
   "outputs": [
    {
     "data": {
      "text/plain": [
       "0"
      ]
     },
     "execution_count": 12,
     "metadata": {},
     "output_type": "execute_result"
    }
   ],
   "source": [
    "# Кол-во дублириющие значения\n",
    "df.duplicated().sum()"
   ]
  },
  {
   "cell_type": "markdown",
   "id": "a03b6ffa",
   "metadata": {},
   "source": [
    "# Анализ данных"
   ]
  },
  {
   "cell_type": "markdown",
   "id": "c2a372b0",
   "metadata": {},
   "source": [
    "## Проверка гипотез"
   ]
  },
  {
   "cell_type": "markdown",
   "id": "bf65386d",
   "metadata": {},
   "source": [
    "Рассмотрим следующие гипотезы:\n",
    "\n",
    "1. **Корреляция между рейтингом отеля и наличием описания:**\n",
    "   Может быть гипотеза о том, что отели с более подробными описаниями имеют более высокий рейтинг.\n",
    "\n",
    "2. **Связь между наличием удобств в отеле и его рейтингом:**\n",
    "   Исследование того, существует ли связь между наличием определенных удобств в отеле и его рейтингом.\n",
    "\n",
    "3. **Влияние географических факторов на наличие описания и удобств:**\n",
    "   Исследование, есть ли какие-то различия в наличии описания и удобств отелей в зависимости от их местоположения (город, страна).\n",
    "\n",
    "4. **Корреляция между размером отеля (количеством номеров) и доступностью контактной информации:**\n",
    "   Проверка гипотезы о том, что крупные отели имеют более полную контактную информацию.\n",
    "\n",
    "5. **Влияние наличия близлежащих достопримечательностей на рейтинг отеля:**\n",
    "   Исследование возможной связи между наличием близлежащих достопримечательностей и рейтингом отеля."
   ]
  },
  {
   "cell_type": "markdown",
   "id": "d7ee0bcd",
   "metadata": {},
   "source": [
    "### Корреляция между рейтингом отеля и наличием описания:\n",
    "\n",
    "Может быть гипотеза о том, что отели с более подробными описаниями имеют более высокий рейтинг."
   ]
  },
  {
   "cell_type": "markdown",
   "id": "b111acb2",
   "metadata": {},
   "source": [
    "### Связь между наличием удобств в отеле и его рейтингом:\n",
    "\n",
    "Исследование того, существует ли связь между наличием определенных удобств в отеле и его рейтингом."
   ]
  },
  {
   "cell_type": "markdown",
   "id": "a5b2f386",
   "metadata": {},
   "source": [
    "### Влияние географических факторов на наличие описания и удобств:\n",
    "\n",
    "Исследование, есть ли какие-то различия в наличии описания и удобств отелей в зависимости от их местоположения (город, страна)."
   ]
  },
  {
   "cell_type": "markdown",
   "id": "09cb44c6",
   "metadata": {},
   "source": [
    "### Корреляция между размером отеля (количеством номеров) и доступностью контактной информации:\n",
    "\n",
    "Проверка гипотезы о том, что крупные отели имеют более полную контактную информацию."
   ]
  },
  {
   "cell_type": "markdown",
   "id": "2a977fe9",
   "metadata": {},
   "source": [
    "### Влияние наличия близлежащих достопримечательностей на рейтинг отеля:\n",
    "\n",
    "Исследование возможной связи между наличием близлежащих достопримечательностей и рейтингом отеля."
   ]
  },
  {
   "cell_type": "markdown",
   "id": "1c44c724",
   "metadata": {},
   "source": [
    "## Корреляционная матрица тепловой карты"
   ]
  },
  {
   "cell_type": "code",
   "execution_count": 13,
   "id": "0ab09f1f",
   "metadata": {},
   "outputs": [
    {
     "data": {
      "image/png": "[encoded data removed]",
      "text/plain": [
       "<Figure size 1000x500 with 2 Axes>"
      ]
     },
     "metadata": {},
     "output_type": "display_data"
    }
   ],
   "source": [
    "plt.figure(figsize=(10, 5))\n",
    "\n",
    "# Построение тепловой карты корреляции\n",
    "heatmap = sb.heatmap(\n",
    "    df.corr().round(3), \n",
    "    annot=True, \n",
    "    cmap='coolwarm', \n",
    "    fmt='.3f', \n",
    "    annot_kws={\"size\": 7, \"weight\": \"bold\"}, \n",
    "    linewidths=.5,\n",
    "    linecolor='black');\n",
    "\n",
    "# Применение настроек шрифта\n",
    "plt.xticks(fontsize=10)\n",
    "plt.yticks(fontsize=10)\n",
    "\n",
    "heatmap.set_ylabel('Названия столбцов датафрейма', fontdict={'size': 10})\n",
    "heatmap.set_xlabel('Названия столбцов датафрейма', fontdict={'size': 10})\n",
    "\n",
    "# Добавление заголовка\n",
    "plt.title('Матрица корреляции данных', fontdict={'size': 20});\n",
    "\n",
    "plt.show()"
   ]
  },
  {
   "cell_type": "markdown",
   "id": "6dd9d46f",
   "metadata": {},
   "source": [
    "# Итог"
   ]
  },
  {
   "cell_type": "markdown",
   "id": "a878db66",
   "metadata": {},
   "source": [
    "## Предобработка данных"
   ]
  },
  {
   "cell_type": "markdown",
   "id": "8972b741",
   "metadata": {},
   "source": [
    "## Анализ данных\n",
    "\n",
    "В ходе анализа было выявлено:"
   ]
  },
  {
   "cell_type": "code",
   "execution_count": null,
   "id": "73c8056b",
   "metadata": {},
   "outputs": [],
   "source": []
  },
  {
   "cell_type": "code",
   "execution_count": null,
   "id": "eb6b8314",
   "metadata": {},
   "outputs": [],
   "source": []
  },
  {
   "cell_type": "code",
   "execution_count": null,
   "id": "de849cfa",
   "metadata": {},
   "outputs": [],
   "source": []
  },
  {
   "cell_type": "code",
   "execution_count": null,
   "id": "baa9dbfe",
   "metadata": {},
   "outputs": [],
   "source": []
  },
  {
   "cell_type": "code",
   "execution_count": null,
   "id": "ec8754ef",
   "metadata": {},
   "outputs": [],
   "source": []
  },
  {
   "cell_type": "code",
   "execution_count": null,
   "id": "2b14a081",
   "metadata": {},
   "outputs": [],
   "source": []
  }
 ],
 "metadata": {
  "kernelspec": {
   "display_name": "Python 3 (ipykernel)",
   "language": "python",
   "name": "python3"
  },
  "language_info": {
   "codemirror_mode": {
    "name": "ipython",
    "version": 3
   },
   "file_extension": ".py",
   "mimetype": "text/x-python",
   "name": "python",
   "nbconvert_exporter": "python",
   "pygments_lexer": "ipython3",
   "version": "3.9.16"
  },
  "toc": {
   "base_numbering": 1,
   "nav_menu": {},
   "number_sections": true,
   "sideBar": true,
   "skip_h1_title": false,
   "title_cell": "Table of Contents",
   "title_sidebar": "Contents",
   "toc_cell": false,
   "toc_position": {
    "height": "calc(100% - 180px)",
    "left": "10px",
    "top": "150px",
    "width": "374.391px"
   },
   "toc_section_display": true,
   "toc_window_display": true
  }
 },
 "nbformat": 4,
 "nbformat_minor": 5
}
